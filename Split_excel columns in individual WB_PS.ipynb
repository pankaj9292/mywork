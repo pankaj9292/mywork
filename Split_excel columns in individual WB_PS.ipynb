{
 "cells": [
  {
   "cell_type": "code",
   "execution_count": 3,
   "metadata": {},
   "outputs": [
    {
     "name": "stdout",
     "output_type": "stream",
     "text": [
      "[ 494  963 1064 1202 1526 1879 1964 2987 3936 3338 3581 4019 4359 4435\n",
      " 4436 4438 4786 4821 5425 5651 5785 5880 6080 6089 6092 6166 6226 6388\n",
      " 3951 6059 2650 3213 2213 6193 6018 5118 5329 5366 5489 5494 5495 5516\n",
      " 5633 5784 6111 2991 3886 3974 4963 6039 3956 3977 2927 6492 4939 5977\n",
      " 6032 1466 1950 3987 4008 4817 5351 5661 5824 5854 5855 5856 5973 6012\n",
      " 6031 6033 6050 6077 6078 3219 4477 4543 4582 5056 5058 5128 5231 5334\n",
      " 5387 5492 5546 5680 5775 5935 5936 5937 6174 5081 6169 5739 2403 6381\n",
      " 6479 3113 3452 3547 4111 4214 4445 4489 4646 4708 4715 4738 5504 5523\n",
      " 6026 6044 6102 6240 6316 5022 3326 3538 3665 6008 6181 5204 5205 5232\n",
      " 5263 5364 5435 5437 5488 5497 5634 5753 5802 5871 5900 5914 5915 5942\n",
      " 5956 5958 5963 5964 5966 5967 5969 5982 6122 6350 6086 6224 5514 6364\n",
      " 6378 5693 3866 3867  420 3125 3145 6082 6356  483 1245 1603 1896 2184\n",
      " 2331 2343 2461 2519 2550 2741 2770 2872 2919 2929 2947 3357 3601 3652\n",
      " 4386 4497 5189 5240 5341 5372 5392 5405 5485 5659 5670 5675 5711 5783\n",
      " 5806 5872 5895 6007 6022 6028 6071 6208 6257 6269 6294 6425 4629 6401]\n"
     ]
    }
   ],
   "source": [
    "        #Slpit SS in Seperate Workbook \n",
    "\n",
    "import pandas as pd\n",
    "    # Import file directory after r'\n",
    "excel_file = r'C:\\Users\\psharma\\Desktop\\ATL.xlsx'\n",
    "    # Enter Sheetname in sheet_name = ''\n",
    "df = pd.read_excel(excel_file, sheet_name = '')\n",
    "df.head()\n",
    "    # Enter Column name in instead of 'case id', this should be the column you want to be split in\n",
    "split_file = df['Case Id'].unique()\n",
    "    #print(split_file)\n",
    "for value in split_file:\n",
    "    # Enter Column name in instead of 'case id', this should be the column you want to be split in    \n",
    "    df1 = df[df['Case Id'] == value]\n",
    "    output_file = str(value) + \".xlsx\"\n",
    "    df1.to_excel(output_file, index = False)\n",
    "    \n"
   ]
  },
  {
   "cell_type": "code",
   "execution_count": 33,
   "metadata": {},
   "outputs": [
    {
     "name": "stdout",
     "output_type": "stream",
     "text": [
      "2021-08-20 17:09:54.672204\n"
     ]
    }
   ],
   "source": [
    "import pandas as pd\n",
    "datetime = pd.to_datetime(today, format = '%Y%m%d')\n",
    "datetime.strftime\n",
    "print(datetime)"
   ]
  },
  {
   "cell_type": "code",
   "execution_count": null,
   "metadata": {},
   "outputs": [],
   "source": [
    "\n"
   ]
  },
  {
   "cell_type": "code",
   "execution_count": null,
   "metadata": {},
   "outputs": [],
   "source": []
  },
  {
   "cell_type": "code",
   "execution_count": null,
   "metadata": {},
   "outputs": [],
   "source": []
  },
  {
   "cell_type": "code",
   "execution_count": null,
   "metadata": {},
   "outputs": [],
   "source": []
  },
  {
   "cell_type": "code",
   "execution_count": null,
   "metadata": {},
   "outputs": [],
   "source": []
  },
  {
   "cell_type": "code",
   "execution_count": null,
   "metadata": {},
   "outputs": [],
   "source": []
  },
  {
   "cell_type": "code",
   "execution_count": null,
   "metadata": {},
   "outputs": [],
   "source": []
  },
  {
   "cell_type": "code",
   "execution_count": null,
   "metadata": {},
   "outputs": [],
   "source": []
  }
 ],
 "metadata": {
  "kernelspec": {
   "display_name": "Python 3",
   "language": "python",
   "name": "python3"
  },
  "language_info": {
   "codemirror_mode": {
    "name": "ipython",
    "version": 3
   },
   "file_extension": ".py",
   "mimetype": "text/x-python",
   "name": "python",
   "nbconvert_exporter": "python",
   "pygments_lexer": "ipython3",
   "version": "3.8.5"
  }
 },
 "nbformat": 4,
 "nbformat_minor": 4
}
