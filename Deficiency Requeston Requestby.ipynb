{
 "cells": [
  {
   "cell_type": "code",
   "execution_count": 21,
   "metadata": {},
   "outputs": [],
   "source": [
    "defi_template = r'C:\\Users\\jupadhyay\\Desktop\\Medicaid\\24281193\\Deficiencies Template_NEW.xlsx'\n",
    "data_location = r\"C://Users//jupadhyay//Desktop//def//\"\n",
    "RequestedBy = '1059'\n",
    "Requestorname = 'John Akindude'\n",
    "RequestedDate = '4/08/2022'\n",
    "Ticket = '24281193'\n",
    "username = 'jupadhyay' \n",
    "password = 'Jayrang$456'"
   ]
  },
  {
   "cell_type": "markdown",
   "metadata": {},
   "source": [
    "## Deficiency Request on and Request by File_PS "
   ]
  },
  {
   "cell_type": "code",
   "execution_count": 22,
   "metadata": {
    "scrolled": true
   },
   "outputs": [],
   "source": [
    "import os\n",
    "import pandas as pd\n",
    "import glob\n",
    "import xlwings as xw\n",
    "import pyodbc \n",
    "\n",
    "server = 'reportdb01.archer.local' \n",
    "database = 'S3Reporting' \n",
    "cnxn = pyodbc.connect('DRIVER={ODBC Driver 17 for SQL Server};SERVER='+server+';DATABASE='+database+';UID='+username+';PWD='+ password)\n",
    "cursor = cnxn.cursor()\n",
    "clientnote = (\n",
    "'Deficiency requested on '+ RequestedDate+' and requested by '+Requestorname+', updated deficiency RequestedBy and '\n",
    "'RequestedDate as per instructions given by '+Requestorname+' on ticket #'+Ticket\n",
    ")\n",
    "heading = [\"Client Id\", \"Deficiency Id\"]\n",
    "df_total = pd.DataFrame(columns = heading)\n",
    "\n",
    "for file in os.listdir(data_location) :\n",
    "    df_file = pd.read_excel(data_location + file, sheet_name = 0)\n",
    "    df2= pd.DataFrame(df_file)\n",
    "    selected_columns = df2.loc[:, heading]\n",
    "    df_total = pd.concat([selected_columns, df_total], ignore_index = True)\n",
    "\n",
    "\n",
    "DefiId = df_total[\"Deficiency Id\"].astype(str).str.cat(sep=\",\")\n",
    "\n",
    "defiquery = (\n",
    "'select DeficiencyId, EntityId, EntityTypeId, EntityTypeName, DeficiencyTypeId, TypeName, StageId, StageName, Note, CreatedBy, CreatedByName, RequestedBy, RequestedDate, CuredBy, CuredDate, FollowUpDate \\n'\n",
    "'from Deficiencies \\n'\n",
    "'where DeficiencyId in ('+DefiId+')'\n",
    ")\n",
    "defidf = pd.read_sql_query(defiquery, cnxn)\n",
    "joindf = pd.merge(df_total, defidf, how='inner', left_on='Deficiency Id', right_on='DeficiencyId')\n",
    "defiupdate = joindf = joindf.query('StageId !=4')\n",
    "\n",
    "clientupdate = pd.DataFrame(defiupdate['Client Id'].drop_duplicates())\n",
    "clientupdate.rename(columns={'Client Id':'Id'}, inplace = True)\n",
    "clientupdate['NewClientNote']=clientnote\n",
    "\n",
    "defiupdate = pd.DataFrame(defiupdate[['DeficiencyId','StageId','RequestedBy','RequestedDate']].drop_duplicates())\n",
    "defiupdate.loc[:,'StageId'] = '3'\n",
    "defiupdate.loc[:,'RequestedBy'] = RequestedBy\n",
    "defiupdate.loc[:,'RequestedDate'] = RequestedDate\n",
    "\n",
    "wb = xw.Book(defi_template)\n",
    "original = wb.sheets['Original']\n",
    "wip = wb.sheets['WIP']\n",
    "defi_update = wb.sheets['Deficiency Update']\n",
    "client_update = wb.sheets['Client Update']\n",
    "defisql_pre = wb.sheets['Deficiency SQL (pre)']\n",
    "defisql_post = wb.sheets['Deficiency SQL (post)']\n",
    "\n",
    "original.range('A1').options(pd.DataFrame, index=False).value = df_total\n",
    "wip.range('A1').options(pd.DataFrame, index=False).value = df_total\n",
    "defi_update.range('A1').options(pd.DataFrame, index=False).value = defiupdate\n",
    "client_update.range('A1').options(pd.DataFrame, index=False).value = clientupdate\n",
    "defisql_pre.range('A1').options(pd.DataFrame, index=False).value = defidf\n",
    "wb.save()\n",
    "\n"
   ]
  },
  {
   "cell_type": "code",
   "execution_count": 85,
   "metadata": {},
   "outputs": [],
   "source": [
    "\n"
   ]
  }
 ],
 "metadata": {
  "kernelspec": {
   "display_name": "Python 3",
   "language": "python",
   "name": "python3"
  },
  "language_info": {
   "codemirror_mode": {
    "name": "ipython",
    "version": 3
   },
   "file_extension": ".py",
   "mimetype": "text/x-python",
   "name": "python",
   "nbconvert_exporter": "python",
   "pygments_lexer": "ipython3",
   "version": "3.8.8"
  }
 },
 "nbformat": 4,
 "nbformat_minor": 4
}
