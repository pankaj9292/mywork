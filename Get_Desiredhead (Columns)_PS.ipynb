{
 "cells": [
  {
   "cell_type": "code",
   "execution_count": 6,
   "source": [
    "# Get particular column from multiple Excel files\r\n",
    "import os\r\n",
    "import pandas as pd\r\n",
    "import glob\r\n",
    "\r\n",
    "# Add location with forward or backwards slashes (\"// or \\\\\")\r\n",
    "data_location = \"R://INDIA//Panchali//Work//Tickets//Deficiency//Update//24253788 - Various//New folder (2)/\"\r\n",
    "\r\n",
    "# Add desired column \r\n",
    "desired_heading = [\"Client Id\", \"Deficiency Id\"]\r\n",
    "df_total = pd.DataFrame(columns = desired_heading)\r\n",
    "\r\n",
    "\r\n",
    "for file in os.listdir(data_location) :\r\n",
    "    # Repalce sheet_name with '0' if 1st tab is to be concatnated, and none if all tabs if is to be taken\r\n",
    "    df_file = pd.read_excel(data_location + file, sheet_name = None)\r\n",
    "    df2= pd.DataFrame(df_file)\r\n",
    "    selected_columns = df2.loc[:, desired_heading]\r\n",
    "    df_total = pd.concat([selected_columns, df_total], ignore_index = True)\r\n",
    "\r\n",
    "df_total.to_excel(\"newmerged.xlsx\",index = False)\r\n",
    "print (df_total)\r\n"
   ],
   "outputs": [
    {
     "output_type": "stream",
     "name": "stdout",
     "text": [
      "    Client Id Deficiency Id\n",
      "0      336830        654260\n",
      "1      337212        601748\n",
      "2      336830        565391\n",
      "3      337333        659421\n",
      "4      474259        726948\n",
      "..        ...           ...\n",
      "154    248468        571324\n",
      "155    248471        405818\n",
      "156    419094        429377\n",
      "157    419098        425248\n",
      "158    419098        425249\n",
      "\n",
      "[159 rows x 2 columns]\n"
     ]
    }
   ],
   "metadata": {}
  },
  {
   "cell_type": "code",
   "execution_count": null,
   "source": [],
   "outputs": [],
   "metadata": {}
  }
 ],
 "metadata": {
  "kernelspec": {
   "display_name": "Python 3",
   "language": "python",
   "name": "python3"
  },
  "language_info": {
   "codemirror_mode": {
    "name": "ipython",
    "version": 3
   },
   "file_extension": ".py",
   "mimetype": "text/x-python",
   "name": "python",
   "nbconvert_exporter": "python",
   "pygments_lexer": "ipython3",
   "version": "3.8.5"
  }
 },
 "nbformat": 4,
 "nbformat_minor": 4
}